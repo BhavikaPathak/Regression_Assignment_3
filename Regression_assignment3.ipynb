{
 "cells": [
  {
   "cell_type": "markdown",
   "id": "1262f9e7-3309-4798-b97d-ff20e67bc538",
   "metadata": {},
   "source": [
    "# ANSWER 1\n",
    "Ridge regression is a model tuning method that is used to analyse any data that suffers from multicollinearity. This method performs L2 regularization.\n",
    "\n",
    "Ridge regression is a term used to refer to a linear regression model whose coefficients are estimated not by ordinary least squares (OLS), but by an estimator, called ridge estimator, that, albeit biased, has lower variance than the OLS estimator."
   ]
  },
  {
   "cell_type": "markdown",
   "id": "a13e2636-fd30-4b93-8e8f-9f95a06c454d",
   "metadata": {},
   "source": [
    "# ANSWER 2\n",
    "linearity\n",
    "\n",
    "constant variance\n",
    "\n",
    "independence"
   ]
  },
  {
   "cell_type": "markdown",
   "id": "1c274542-054b-4a0b-9720-d74d43da2cd5",
   "metadata": {},
   "source": [
    "# ANSWER 3\n",
    "\n",
    "Selecting a good value for λ is critical. When λ=0, the penalty term has no effect, and ridge regression will produce the classical least square coefficients. However, as λ increases to infinite, the impact of the shrinkage penalty grows, and the ridge regression coefficients will get close zero"
   ]
  },
  {
   "cell_type": "markdown",
   "id": "d95abb09-35f9-4f70-bc7b-c8bcea42817a",
   "metadata": {},
   "source": [
    "# ANSWER 4\n",
    "YES\n",
    "\n",
    "Ridge regression (L2 regularization) shrinks coefficients towards zero, whereas lasso regression (L1 regularization) can force some coefficients to be exactly 0, making it suitable for feature selection."
   ]
  },
  {
   "cell_type": "markdown",
   "id": "db3c46b5-a66f-44c3-a95f-7464cc7c40f7",
   "metadata": {},
   "source": [
    "# ANSWER 5\n",
    "Multicollinearity happens when predictor variables exhibit a correlation among themselves. Ridge regression aims at reducing the standard error by adding some bias in the estimates of the regression. The reduction of the standard error in regression estimates significantly increases the reliability of the estimates."
   ]
  },
  {
   "cell_type": "markdown",
   "id": "82bbf202-c313-44fe-a165-66e8d555792a",
   "metadata": {},
   "source": [
    "# ANSWER 6\n",
    "NO\n",
    "\n",
    "Ridge regression is used for regression purpose only as it needs the dependent variable to be continuous"
   ]
  },
  {
   "cell_type": "markdown",
   "id": "b32b60df-9813-456b-925d-7aacbbf06124",
   "metadata": {},
   "source": [
    "# ANSWER 7\n",
    "The ridge coefficients are a reduced factor of the simple linear regression coefficients and thus never attain zero values but very small values"
   ]
  },
  {
   "cell_type": "markdown",
   "id": "c04ff1f6-2172-4dd1-bad3-fb708dc65e1a",
   "metadata": {},
   "source": [
    "# ANSWER 8 \n",
    "The ridge regression technique can be used to predict time-series. Ridge regression (RR) can also solve the multicollinearity problem that exists in linear regression.\n"
   ]
  }
 ],
 "metadata": {
  "kernelspec": {
   "display_name": "Python 3 (ipykernel)",
   "language": "python",
   "name": "python3"
  },
  "language_info": {
   "codemirror_mode": {
    "name": "ipython",
    "version": 3
   },
   "file_extension": ".py",
   "mimetype": "text/x-python",
   "name": "python",
   "nbconvert_exporter": "python",
   "pygments_lexer": "ipython3",
   "version": "3.10.8"
  }
 },
 "nbformat": 4,
 "nbformat_minor": 5
}
